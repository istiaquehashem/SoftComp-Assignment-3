{
  "nbformat": 4,
  "nbformat_minor": 0,
  "metadata": {
    "colab": {
      "name": "170104059.ipynb",
      "provenance": [],
      "collapsed_sections": [
        "vTCF6XH0wPRn",
        "WzjnkEKKy8uA",
        "P4-MdHpdQQJm",
        "-r8mD6guFTle",
        "LJh00m4FFQDM",
        "X7_3o9jH_1ol",
        "SWWU8ozN_hJ6"
      ]
    },
    "kernelspec": {
      "name": "python3",
      "display_name": "Python 3"
    },
    "language_info": {
      "name": "python"
    },
    "accelerator": "GPU"
  },
  "cells": [
    {
      "cell_type": "markdown",
      "metadata": {
        "id": "VQu3eofY2CZ1"
      },
      "source": [
        "## ID : 170104059\n",
        "## Dataset : 3\n",
        "## Model : Bidirectional LSTM"
      ]
    },
    {
      "cell_type": "code",
      "metadata": {
        "id": "8K-kARuMw4ed",
        "colab": {
          "base_uri": "https://localhost:8080/"
        },
        "outputId": "1710b5f7-cd64-4bbb-cf07-eb115b10f360"
      },
      "source": [
        "import re\n",
        "import spacy\n",
        "import string\n",
        "\n",
        "\n",
        "import en_core_web_sm\n",
        "import tensorflow as tf\n",
        "\n",
        "import nltk\n",
        "nltk.download('wordnet')\n",
        "nltk.download('punkt')\n",
        "nltk.download('stopwords')\n",
        "from nltk.corpus import stopwords\n",
        "from nltk.stem import WordNetLemmatizer\n",
        "from nltk.tokenize import word_tokenize\n",
        "\n",
        "from sklearn import model_selection, preprocessing\n",
        "\n",
        "from tensorflow.keras.optimizers import Adam\n",
        "from tensorflow.keras.models import Sequential\n",
        "\n",
        "\n",
        "from tensorflow.keras.preprocessing.text import Tokenizer\n",
        "from tensorflow.keras.preprocessing.sequence import pad_sequences\n",
        "from tensorflow.keras.layers.experimental.preprocessing import TextVectorization\n",
        "from tensorflow.keras.layers import Embedding, LSTM, Dense, Bidirectional, Dropout\n",
        "\n",
        "nlp = en_core_web_sm.load()\n",
        "lemmatizer = WordNetLemmatizer()\n",
        "\n",
        "FILTERS = '!\"#$%&()*+,-/:;?@[\\]^_`{|}~tn'\n",
        "NUMBERING_PATTERN = re.compile('d+(?:st|[nr]d|th)')\n",
        "\n"
      ],
      "execution_count": 1,
      "outputs": [
        {
          "output_type": "stream",
          "name": "stdout",
          "text": [
            "[nltk_data] Downloading package wordnet to /root/nltk_data...\n",
            "[nltk_data]   Unzipping corpora/wordnet.zip.\n",
            "[nltk_data] Downloading package punkt to /root/nltk_data...\n",
            "[nltk_data]   Unzipping tokenizers/punkt.zip.\n",
            "[nltk_data] Downloading package stopwords to /root/nltk_data...\n",
            "[nltk_data]   Unzipping corpora/stopwords.zip.\n"
          ]
        }
      ]
    },
    {
      "cell_type": "code",
      "metadata": {
        "colab": {
          "base_uri": "https://localhost:8080/",
          "height": 417
        },
        "id": "XN03Pnp5wpyv",
        "outputId": "03c14b1d-c535-4266-d84b-f78e0e800f5c"
      },
      "source": [
        "import pandas as pd\n",
        "import numpy as np\n",
        "import csv\n",
        "df = pd.read_csv(\"/content/Dataset 3.csv\",encoding='latin1')\n",
        "df"
      ],
      "execution_count": 2,
      "outputs": [
        {
          "output_type": "execute_result",
          "data": {
            "text/html": [
              "<div>\n",
              "<style scoped>\n",
              "    .dataframe tbody tr th:only-of-type {\n",
              "        vertical-align: middle;\n",
              "    }\n",
              "\n",
              "    .dataframe tbody tr th {\n",
              "        vertical-align: top;\n",
              "    }\n",
              "\n",
              "    .dataframe thead th {\n",
              "        text-align: right;\n",
              "    }\n",
              "</style>\n",
              "<table border=\"1\" class=\"dataframe\">\n",
              "  <thead>\n",
              "    <tr style=\"text-align: right;\">\n",
              "      <th></th>\n",
              "      <th>tweets</th>\n",
              "      <th>sentiment</th>\n",
              "    </tr>\n",
              "  </thead>\n",
              "  <tbody>\n",
              "    <tr>\n",
              "      <th>0</th>\n",
              "      <td>just had a real good moment. i missssssssss hi...</td>\n",
              "      <td>0</td>\n",
              "    </tr>\n",
              "    <tr>\n",
              "      <th>1</th>\n",
              "      <td>is reading manga  http://plurk.com/p/mzp1e</td>\n",
              "      <td>0</td>\n",
              "    </tr>\n",
              "    <tr>\n",
              "      <th>2</th>\n",
              "      <td>@comeagainjen http://twitpic.com/2y2lx - http:...</td>\n",
              "      <td>0</td>\n",
              "    </tr>\n",
              "    <tr>\n",
              "      <th>3</th>\n",
              "      <td>@lapcat Need to send 'em to my accountant tomo...</td>\n",
              "      <td>0</td>\n",
              "    </tr>\n",
              "    <tr>\n",
              "      <th>4</th>\n",
              "      <td>ADD ME ON MYSPACE!!!  myspace.com/LookThunder</td>\n",
              "      <td>0</td>\n",
              "    </tr>\n",
              "    <tr>\n",
              "      <th>...</th>\n",
              "      <td>...</td>\n",
              "      <td>...</td>\n",
              "    </tr>\n",
              "    <tr>\n",
              "      <th>10309</th>\n",
              "      <td>No Depression by G Herbo is my mood from now o...</td>\n",
              "      <td>1</td>\n",
              "    </tr>\n",
              "    <tr>\n",
              "      <th>10310</th>\n",
              "      <td>What do you do when depression succumbs the br...</td>\n",
              "      <td>1</td>\n",
              "    </tr>\n",
              "    <tr>\n",
              "      <th>10311</th>\n",
              "      <td>Ketamine Nasal Spray Shows Promise Against Dep...</td>\n",
              "      <td>1</td>\n",
              "    </tr>\n",
              "    <tr>\n",
              "      <th>10312</th>\n",
              "      <td>dont mistake a bad day with depression! everyo...</td>\n",
              "      <td>1</td>\n",
              "    </tr>\n",
              "    <tr>\n",
              "      <th>10313</th>\n",
              "      <td>0</td>\n",
              "      <td>1</td>\n",
              "    </tr>\n",
              "  </tbody>\n",
              "</table>\n",
              "<p>10314 rows × 2 columns</p>\n",
              "</div>"
            ],
            "text/plain": [
              "                                                  tweets  sentiment\n",
              "0      just had a real good moment. i missssssssss hi...          0\n",
              "1             is reading manga  http://plurk.com/p/mzp1e          0\n",
              "2      @comeagainjen http://twitpic.com/2y2lx - http:...          0\n",
              "3      @lapcat Need to send 'em to my accountant tomo...          0\n",
              "4          ADD ME ON MYSPACE!!!  myspace.com/LookThunder          0\n",
              "...                                                  ...        ...\n",
              "10309  No Depression by G Herbo is my mood from now o...          1\n",
              "10310  What do you do when depression succumbs the br...          1\n",
              "10311  Ketamine Nasal Spray Shows Promise Against Dep...          1\n",
              "10312  dont mistake a bad day with depression! everyo...          1\n",
              "10313                                                  0          1\n",
              "\n",
              "[10314 rows x 2 columns]"
            ]
          },
          "metadata": {},
          "execution_count": 2
        }
      ]
    },
    {
      "cell_type": "code",
      "metadata": {
        "colab": {
          "base_uri": "https://localhost:8080/"
        },
        "id": "NVA1MRodwuzE",
        "outputId": "f0ebfef2-2e4c-4d77-f214-c32c07ea6182"
      },
      "source": [
        "df['sentiment'].value_counts()"
      ],
      "execution_count": 3,
      "outputs": [
        {
          "output_type": "execute_result",
          "data": {
            "text/plain": [
              "0    8000\n",
              "1    2314\n",
              "Name: sentiment, dtype: int64"
            ]
          },
          "metadata": {},
          "execution_count": 3
        }
      ]
    },
    {
      "cell_type": "code",
      "metadata": {
        "colab": {
          "base_uri": "https://localhost:8080/",
          "height": 417
        },
        "id": "wpqbMvkDxCbs",
        "outputId": "3c5804cd-0d12-4bf7-a64f-162ca1e8482d"
      },
      "source": [
        "df.drop_duplicates(inplace = True)\n",
        "df"
      ],
      "execution_count": 4,
      "outputs": [
        {
          "output_type": "execute_result",
          "data": {
            "text/html": [
              "<div>\n",
              "<style scoped>\n",
              "    .dataframe tbody tr th:only-of-type {\n",
              "        vertical-align: middle;\n",
              "    }\n",
              "\n",
              "    .dataframe tbody tr th {\n",
              "        vertical-align: top;\n",
              "    }\n",
              "\n",
              "    .dataframe thead th {\n",
              "        text-align: right;\n",
              "    }\n",
              "</style>\n",
              "<table border=\"1\" class=\"dataframe\">\n",
              "  <thead>\n",
              "    <tr style=\"text-align: right;\">\n",
              "      <th></th>\n",
              "      <th>tweets</th>\n",
              "      <th>sentiment</th>\n",
              "    </tr>\n",
              "  </thead>\n",
              "  <tbody>\n",
              "    <tr>\n",
              "      <th>0</th>\n",
              "      <td>just had a real good moment. i missssssssss hi...</td>\n",
              "      <td>0</td>\n",
              "    </tr>\n",
              "    <tr>\n",
              "      <th>1</th>\n",
              "      <td>is reading manga  http://plurk.com/p/mzp1e</td>\n",
              "      <td>0</td>\n",
              "    </tr>\n",
              "    <tr>\n",
              "      <th>2</th>\n",
              "      <td>@comeagainjen http://twitpic.com/2y2lx - http:...</td>\n",
              "      <td>0</td>\n",
              "    </tr>\n",
              "    <tr>\n",
              "      <th>3</th>\n",
              "      <td>@lapcat Need to send 'em to my accountant tomo...</td>\n",
              "      <td>0</td>\n",
              "    </tr>\n",
              "    <tr>\n",
              "      <th>4</th>\n",
              "      <td>ADD ME ON MYSPACE!!!  myspace.com/LookThunder</td>\n",
              "      <td>0</td>\n",
              "    </tr>\n",
              "    <tr>\n",
              "      <th>...</th>\n",
              "      <td>...</td>\n",
              "      <td>...</td>\n",
              "    </tr>\n",
              "    <tr>\n",
              "      <th>10309</th>\n",
              "      <td>No Depression by G Herbo is my mood from now o...</td>\n",
              "      <td>1</td>\n",
              "    </tr>\n",
              "    <tr>\n",
              "      <th>10310</th>\n",
              "      <td>What do you do when depression succumbs the br...</td>\n",
              "      <td>1</td>\n",
              "    </tr>\n",
              "    <tr>\n",
              "      <th>10311</th>\n",
              "      <td>Ketamine Nasal Spray Shows Promise Against Dep...</td>\n",
              "      <td>1</td>\n",
              "    </tr>\n",
              "    <tr>\n",
              "      <th>10312</th>\n",
              "      <td>dont mistake a bad day with depression! everyo...</td>\n",
              "      <td>1</td>\n",
              "    </tr>\n",
              "    <tr>\n",
              "      <th>10313</th>\n",
              "      <td>0</td>\n",
              "      <td>1</td>\n",
              "    </tr>\n",
              "  </tbody>\n",
              "</table>\n",
              "<p>10283 rows × 2 columns</p>\n",
              "</div>"
            ],
            "text/plain": [
              "                                                  tweets  sentiment\n",
              "0      just had a real good moment. i missssssssss hi...          0\n",
              "1             is reading manga  http://plurk.com/p/mzp1e          0\n",
              "2      @comeagainjen http://twitpic.com/2y2lx - http:...          0\n",
              "3      @lapcat Need to send 'em to my accountant tomo...          0\n",
              "4          ADD ME ON MYSPACE!!!  myspace.com/LookThunder          0\n",
              "...                                                  ...        ...\n",
              "10309  No Depression by G Herbo is my mood from now o...          1\n",
              "10310  What do you do when depression succumbs the br...          1\n",
              "10311  Ketamine Nasal Spray Shows Promise Against Dep...          1\n",
              "10312  dont mistake a bad day with depression! everyo...          1\n",
              "10313                                                  0          1\n",
              "\n",
              "[10283 rows x 2 columns]"
            ]
          },
          "metadata": {},
          "execution_count": 4
        }
      ]
    },
    {
      "cell_type": "code",
      "metadata": {
        "colab": {
          "base_uri": "https://localhost:8080/"
        },
        "id": "7HrkkPWZxF4c",
        "outputId": "0bd5302b-f280-4295-e0d5-1c0a2918d8bb"
      },
      "source": [
        "df.isnull().sum()"
      ],
      "execution_count": 5,
      "outputs": [
        {
          "output_type": "execute_result",
          "data": {
            "text/plain": [
              "tweets       0\n",
              "sentiment    0\n",
              "dtype: int64"
            ]
          },
          "metadata": {},
          "execution_count": 5
        }
      ]
    },
    {
      "cell_type": "code",
      "metadata": {
        "id": "LJnS82z1pKyi"
      },
      "source": [
        "x = df.tweets.values\n",
        "y = df.sentiment.values"
      ],
      "execution_count": 6,
      "outputs": []
    },
    {
      "cell_type": "markdown",
      "metadata": {
        "id": "vTCF6XH0wPRn"
      },
      "source": [
        "## Train-test Splite"
      ]
    },
    {
      "cell_type": "code",
      "metadata": {
        "id": "c2-TQKjdpqqX"
      },
      "source": [
        "df = df.sample(frac = 1)"
      ],
      "execution_count": 39,
      "outputs": []
    },
    {
      "cell_type": "code",
      "metadata": {
        "id": "V2sGGd9uMn3l"
      },
      "source": [
        "train_size = int(df.shape[0]*0.8)\n",
        "X_train = df.tweets[:train_size]\n",
        "Y_train = df.sentiment[:train_size]\n",
        "\n",
        "X_test = df.tweets[train_size:]\n",
        "Y_test = df.sentiment[train_size:]"
      ],
      "execution_count": 40,
      "outputs": []
    },
    {
      "cell_type": "code",
      "metadata": {
        "colab": {
          "base_uri": "https://localhost:8080/"
        },
        "id": "5UwdqVpxUJh3",
        "outputId": "e4615496-611a-404d-fd9e-d562c2c5cde6"
      },
      "source": [
        "X_train.shape"
      ],
      "execution_count": 41,
      "outputs": [
        {
          "output_type": "execute_result",
          "data": {
            "text/plain": [
              "(8226,)"
            ]
          },
          "metadata": {},
          "execution_count": 41
        }
      ]
    },
    {
      "cell_type": "markdown",
      "metadata": {
        "id": "WzjnkEKKy8uA"
      },
      "source": [
        "## Cleaning Dataset"
      ]
    },
    {
      "cell_type": "code",
      "metadata": {
        "id": "dPfgT4K_dt28"
      },
      "source": [
        "from nltk.corpus import stopwords\n",
        "puncset = list(string.punctuation)\n"
      ],
      "execution_count": 42,
      "outputs": []
    },
    {
      "cell_type": "code",
      "metadata": {
        "id": "HoEFA4wYg22o"
      },
      "source": [
        "def initial_preprocessing(text):\n",
        "\n",
        "    numberings_removed_text =  NUMBERING_PATTERN.sub('', text)\n",
        "\n",
        "    extra_chars_removed_text = re.sub(\n",
        "\n",
        "        r\"(.)1{2,}\",  r'11', numberings_removed_text\n",
        "\n",
        "    )\n",
        "\n",
        "    return extra_chars_removed_text"
      ],
      "execution_count": 43,
      "outputs": []
    },
    {
      "cell_type": "code",
      "metadata": {
        "id": "uytdcl9ky7GO"
      },
      "source": [
        "X_train = X_train.apply(initial_preprocessing)\n",
        "\n",
        "X_train = [\n",
        "        lemmatizer.lemmatize(token)\n",
        "        for token in X_train\n",
        "    ]\n",
        "\n",
        "\n",
        "texts_ = []\n",
        "for text in X_train:\n",
        "  words = [word.lower() for word in word_tokenize(text)]\n",
        "  texts_.append(words)\n",
        "\n",
        "\n",
        "puncsets = []\n",
        "for token in texts_: \n",
        "    punc = [i for i in token if i not in puncset]\n",
        "    puncsets.append(punc)\n",
        "    \n",
        "\n",
        "sentence = []\n",
        "for token in puncsets: \n",
        "    word = [w for w in token if w.isalpha()]\n",
        "    sentence.append(word)\n",
        "\n",
        "\n",
        "english_stops = set(stopwords.words('english'))\n",
        "filtered_words = []\n",
        "for word in sentence: \n",
        "  f_word = [wd for wd in word if wd not in english_stops] \n",
        "  filtered_words.append(f_word)\n",
        "   \n",
        "\n",
        "texts_train = filtered_words"
      ],
      "execution_count": 44,
      "outputs": []
    },
    {
      "cell_type": "code",
      "metadata": {
        "id": "ekA69CDlNmkg"
      },
      "source": [
        "X_test = X_test.apply(initial_preprocessing)\n",
        "\n",
        "X_test = [\n",
        "        lemmatizer.lemmatize(token)\n",
        "        for token in X_test\n",
        "    ]\n",
        "\n",
        "texts_ = []\n",
        "for text in X_test:\n",
        "  words = [word.lower() for word in word_tokenize(text)]\n",
        "  texts_.append(words)\n",
        "\n",
        "\n",
        "puncsets = []\n",
        "for token in texts_: \n",
        "    punc = [i for i in token if i not in puncset]\n",
        "    puncsets.append(punc)\n",
        "    \n",
        "\n",
        "sentence = []\n",
        "for token in puncsets: \n",
        "    word = [w for w in token if w.isalpha()]\n",
        "    sentence.append(word)\n",
        "\n",
        "\n",
        "english_stops = set(stopwords.words('english'))\n",
        "filtered_words = []\n",
        "for word in sentence: \n",
        "  f_word = [wd for wd in word if wd not in english_stops] \n",
        "  filtered_words.append(f_word)\n",
        "\n",
        "  \n",
        "texts_test = filtered_words"
      ],
      "execution_count": 45,
      "outputs": []
    },
    {
      "cell_type": "code",
      "metadata": {
        "id": "Zq5v9uPENilg"
      },
      "source": [
        "labels = df['sentiment'].iloc[:]"
      ],
      "execution_count": 46,
      "outputs": []
    },
    {
      "cell_type": "code",
      "metadata": {
        "id": "Wql2_2FH04IR"
      },
      "source": [
        "num_word1 = len(texts_train)\n",
        "num_word2 = len(texts_test)"
      ],
      "execution_count": 22,
      "outputs": []
    },
    {
      "cell_type": "markdown",
      "metadata": {
        "id": "P4-MdHpdQQJm"
      },
      "source": [
        "## tokenize"
      ]
    },
    {
      "cell_type": "code",
      "metadata": {
        "id": "HxKckd0LQUCm"
      },
      "source": [
        "tokenizer = Tokenizer(num_word1,filters = FILTERS)\n",
        "tokenizer.fit_on_texts(texts_train)\n",
        "x_train = tokenizer.texts_to_sequences(texts_train)\n",
        "x_train = pad_sequences(\n",
        "    x_train, \n",
        "    maxlen=128, \n",
        "    truncating = 'post',\n",
        "    padding='post'\n",
        ")"
      ],
      "execution_count": 47,
      "outputs": []
    },
    {
      "cell_type": "code",
      "metadata": {
        "colab": {
          "base_uri": "https://localhost:8080/"
        },
        "id": "WLuY37mUcmzp",
        "outputId": "2a9afa81-9c39-4968-e5f4-0f0dccebe7f3"
      },
      "source": [
        "num_word = len(tokenizer.word_index)\n",
        "num_word"
      ],
      "execution_count": 48,
      "outputs": [
        {
          "output_type": "execute_result",
          "data": {
            "text/plain": [
              "15661"
            ]
          },
          "metadata": {},
          "execution_count": 48
        }
      ]
    },
    {
      "cell_type": "code",
      "metadata": {
        "id": "bsydxqfjRE71"
      },
      "source": [
        "x_test = tokenizer.texts_to_sequences(texts_test)\n",
        "x_test = pad_sequences(\n",
        "    x_test, \n",
        "    maxlen=128, \n",
        "    truncating = 'post',\n",
        "    padding='post'\n",
        ")"
      ],
      "execution_count": 49,
      "outputs": []
    },
    {
      "cell_type": "code",
      "metadata": {
        "id": "Hm5kb3WXCVzS"
      },
      "source": [
        "from sklearn.preprocessing import LabelEncoder\n",
        "le = LabelEncoder()\n",
        "y_train = le.fit_transform(Y_train)\n",
        "y_test = le.transform(Y_test)"
      ],
      "execution_count": 52,
      "outputs": []
    },
    {
      "cell_type": "markdown",
      "metadata": {
        "id": "-r8mD6guFTle"
      },
      "source": [
        "## Dataset Banalnce"
      ]
    },
    {
      "cell_type": "code",
      "metadata": {
        "colab": {
          "base_uri": "https://localhost:8080/"
        },
        "id": "vC5zbh4vEe1S",
        "outputId": "d6c40f7b-80be-41b2-d2ba-59ad2246b81f"
      },
      "source": [
        "from imblearn.over_sampling import BorderlineSMOTE, SMOTE, ADASYN, SMOTENC, RandomOverSampler\n",
        "#Random Over Sampling\n",
        "ros = RandomOverSampler(random_state=777)\n",
        "x_train, y_train = ros.fit_sample(x_train, y_train)"
      ],
      "execution_count": 53,
      "outputs": [
        {
          "output_type": "stream",
          "name": "stderr",
          "text": [
            "/usr/local/lib/python3.7/dist-packages/sklearn/externals/six.py:31: FutureWarning: The module is deprecated in version 0.21 and will be removed in version 0.23 since we've dropped support for Python 2.7. Please rely on the official version of six (https://pypi.org/project/six/).\n",
            "  \"(https://pypi.org/project/six/).\", FutureWarning)\n",
            "/usr/local/lib/python3.7/dist-packages/sklearn/utils/deprecation.py:144: FutureWarning: The sklearn.neighbors.base module is  deprecated in version 0.22 and will be removed in version 0.24. The corresponding classes / functions should instead be imported from sklearn.neighbors. Anything that cannot be imported from sklearn.neighbors is now part of the private API.\n",
            "  warnings.warn(message, FutureWarning)\n",
            "/usr/local/lib/python3.7/dist-packages/sklearn/utils/deprecation.py:87: FutureWarning: Function safe_indexing is deprecated; safe_indexing is deprecated in version 0.22 and will be removed in version 0.24.\n",
            "  warnings.warn(msg, category=FutureWarning)\n"
          ]
        }
      ]
    },
    {
      "cell_type": "code",
      "metadata": {
        "colab": {
          "base_uri": "https://localhost:8080/"
        },
        "id": "BKTMsVA9E9Tx",
        "outputId": "6672ca90-9209-4aa9-f6e3-63190328f816"
      },
      "source": [
        "from imblearn.over_sampling import BorderlineSMOTE, SMOTE, ADASYN, SMOTENC, RandomOverSampler\n",
        "#Random Over Sampling\n",
        "ros = RandomOverSampler(random_state=777)\n",
        "x_test, y_test = ros.fit_sample(x_test, y_test)"
      ],
      "execution_count": 54,
      "outputs": [
        {
          "output_type": "stream",
          "name": "stderr",
          "text": [
            "/usr/local/lib/python3.7/dist-packages/sklearn/utils/deprecation.py:87: FutureWarning: Function safe_indexing is deprecated; safe_indexing is deprecated in version 0.22 and will be removed in version 0.24.\n",
            "  warnings.warn(msg, category=FutureWarning)\n"
          ]
        }
      ]
    },
    {
      "cell_type": "code",
      "metadata": {
        "colab": {
          "base_uri": "https://localhost:8080/"
        },
        "id": "ebe92NtpRvGu",
        "outputId": "68404a6c-f006-4009-d0d9-fd75bcc9f600"
      },
      "source": [
        "print(x_train.shape,y_train.shape)\n",
        "print(x_test.shape,y_test.shape)"
      ],
      "execution_count": 55,
      "outputs": [
        {
          "output_type": "stream",
          "name": "stdout",
          "text": [
            "(12818, 128) (12818,)\n",
            "(3174, 128) (3174,)\n"
          ]
        }
      ]
    },
    {
      "cell_type": "markdown",
      "metadata": {
        "id": "LJh00m4FFQDM"
      },
      "source": [
        "## Model Making"
      ]
    },
    {
      "cell_type": "code",
      "metadata": {
        "id": "sQt-InzAczJZ",
        "colab": {
          "base_uri": "https://localhost:8080/"
        },
        "outputId": "a3ee6f5d-8267-414c-f1ff-964133a2752a"
      },
      "source": [
        "model = Sequential()\n",
        "\n",
        "model.add(Embedding(input_dim=num_word, output_dim=200, input_length=128,trainable = True))\n",
        "\n",
        "model.add(Bidirectional(LSTM(200,dropout=0.2,return_sequences=True,)))\n",
        "\n",
        "model.add(Bidirectional(LSTM(150,dropout=0.2,return_sequences=True,)))\n",
        "\n",
        "model.add(Bidirectional(LSTM(100,dropout=0.2)))\n",
        "\n",
        "model.add(Dense(1, activation='sigmoid'))\n",
        "\n",
        "model.compile(loss='binary_crossentropy', \n",
        "              optimizer='adam', \n",
        "              metrics=['accuracy'])\n",
        "model.summary()\n"
      ],
      "execution_count": 56,
      "outputs": [
        {
          "output_type": "stream",
          "name": "stdout",
          "text": [
            "Model: \"sequential\"\n",
            "_________________________________________________________________\n",
            "Layer (type)                 Output Shape              Param #   \n",
            "=================================================================\n",
            "embedding (Embedding)        (None, 128, 200)          3132200   \n",
            "_________________________________________________________________\n",
            "bidirectional (Bidirectional (None, 128, 400)          641600    \n",
            "_________________________________________________________________\n",
            "bidirectional_1 (Bidirection (None, 128, 300)          661200    \n",
            "_________________________________________________________________\n",
            "bidirectional_2 (Bidirection (None, 200)               320800    \n",
            "_________________________________________________________________\n",
            "dense (Dense)                (None, 1)                 201       \n",
            "=================================================================\n",
            "Total params: 4,756,001\n",
            "Trainable params: 4,756,001\n",
            "Non-trainable params: 0\n",
            "_________________________________________________________________\n"
          ]
        }
      ]
    },
    {
      "cell_type": "code",
      "metadata": {
        "colab": {
          "base_uri": "https://localhost:8080/"
        },
        "id": "wo_D6Vrdc9H0",
        "outputId": "5ca8827b-6c9f-4e01-ce85-221802898a55"
      },
      "source": [
        "history = model.fit(\n",
        "    x_train, \n",
        "    y_train, \n",
        "    epochs=15,\n",
        "    verbose=True,\n",
        "    batch_size = 30,\n",
        "    validation_data=(x_test, y_test)\n",
        ")"
      ],
      "execution_count": 57,
      "outputs": [
        {
          "output_type": "stream",
          "name": "stdout",
          "text": [
            "Epoch 1/15\n",
            "428/428 [==============================] - 104s 209ms/step - loss: 0.0972 - accuracy: 0.9621 - val_loss: 0.1185 - val_accuracy: 0.9739\n",
            "Epoch 2/15\n",
            "428/428 [==============================] - 86s 202ms/step - loss: 0.0229 - accuracy: 0.9949 - val_loss: 0.1548 - val_accuracy: 0.9729\n",
            "Epoch 3/15\n",
            "428/428 [==============================] - 86s 201ms/step - loss: 0.0119 - accuracy: 0.9970 - val_loss: 0.1412 - val_accuracy: 0.9707\n",
            "Epoch 4/15\n",
            "428/428 [==============================] - 86s 201ms/step - loss: 0.0062 - accuracy: 0.9980 - val_loss: 0.1331 - val_accuracy: 0.9748\n",
            "Epoch 5/15\n",
            "428/428 [==============================] - 86s 201ms/step - loss: 0.0079 - accuracy: 0.9974 - val_loss: 0.1410 - val_accuracy: 0.9757\n",
            "Epoch 6/15\n",
            "428/428 [==============================] - 86s 201ms/step - loss: 0.0043 - accuracy: 0.9988 - val_loss: 0.1668 - val_accuracy: 0.9761\n",
            "Epoch 7/15\n",
            "428/428 [==============================] - 86s 201ms/step - loss: 0.0035 - accuracy: 0.9988 - val_loss: 0.1780 - val_accuracy: 0.9757\n",
            "Epoch 8/15\n",
            "428/428 [==============================] - 86s 201ms/step - loss: 0.0035 - accuracy: 0.9988 - val_loss: 0.1898 - val_accuracy: 0.9761\n",
            "Epoch 9/15\n",
            "428/428 [==============================] - 86s 200ms/step - loss: 0.0033 - accuracy: 0.9988 - val_loss: 0.1871 - val_accuracy: 0.9754\n",
            "Epoch 10/15\n",
            "428/428 [==============================] - 86s 200ms/step - loss: 0.0033 - accuracy: 0.9988 - val_loss: 0.2014 - val_accuracy: 0.9751\n",
            "Epoch 11/15\n",
            "428/428 [==============================] - 85s 200ms/step - loss: 0.0032 - accuracy: 0.9988 - val_loss: 0.2029 - val_accuracy: 0.9751\n",
            "Epoch 12/15\n",
            "428/428 [==============================] - 86s 200ms/step - loss: 0.0032 - accuracy: 0.9988 - val_loss: 0.2116 - val_accuracy: 0.9751\n",
            "Epoch 13/15\n",
            "428/428 [==============================] - 86s 201ms/step - loss: 0.0031 - accuracy: 0.9988 - val_loss: 0.2243 - val_accuracy: 0.9751\n",
            "Epoch 14/15\n",
            "428/428 [==============================] - 86s 200ms/step - loss: 0.0032 - accuracy: 0.9988 - val_loss: 0.2153 - val_accuracy: 0.9751\n",
            "Epoch 15/15\n",
            "428/428 [==============================] - 86s 200ms/step - loss: 0.0033 - accuracy: 0.9988 - val_loss: 0.2068 - val_accuracy: 0.9735\n"
          ]
        }
      ]
    },
    {
      "cell_type": "code",
      "metadata": {
        "id": "ZFJPB2DLdL7P",
        "colab": {
          "base_uri": "https://localhost:8080/",
          "height": 295
        },
        "outputId": "b509fbe8-0b59-4122-8532-74c9c67735ba"
      },
      "source": [
        "import matplotlib.pyplot as plt\n",
        "fig = plt.plot(history.history['accuracy'])\n",
        "title = plt.title(\"History\")\n",
        "xlabel = plt.xlabel(\"Epochs\")\n",
        "ylabel = plt.ylabel(\"Accuracy\")"
      ],
      "execution_count": 61,
      "outputs": [
        {
          "output_type": "display_data",
          "data": {
            "image/png": "[encoded data removed]",
            "text/plain": [
              "<Figure size 432x288 with 1 Axes>"
            ]
          },
          "metadata": {
            "needs_background": "light"
          }
        }
      ]
    },
    {
      "cell_type": "code",
      "metadata": {
        "colab": {
          "base_uri": "https://localhost:8080/",
          "height": 295
        },
        "id": "9KSvipBaG6KZ",
        "outputId": "32e076f3-fc77-4cb7-86d0-64c91e6fe4eb"
      },
      "source": [
        "import matplotlib.pyplot as plt\n",
        "fig = plt.plot(history.history['loss'])\n",
        "title = plt.title(\"History\")\n",
        "xlabel = plt.xlabel(\"Epochs\")\n",
        "ylabel = plt.ylabel(\"Loss\")"
      ],
      "execution_count": 62,
      "outputs": [
        {
          "output_type": "display_data",
          "data": {
            "image/png": "[encoded data removed]",
            "text/plain": [
              "<Figure size 432x288 with 1 Axes>"
            ]
          },
          "metadata": {
            "needs_background": "light"
          }
        }
      ]
    },
    {
      "cell_type": "code",
      "metadata": {
        "colab": {
          "base_uri": "https://localhost:8080/",
          "height": 295
        },
        "id": "Eh_4gaeqBZZp",
        "outputId": "7ddcced1-3446-4808-98dd-12ccd276f8d6"
      },
      "source": [
        "import matplotlib.pyplot as plt\n",
        "fig1 = plt.plot(history.history['accuracy'])\n",
        "fig2 = plt.plot(history.history['val_accuracy'])\n",
        "title = plt.title(\"History\")\n",
        "xlabel = plt.xlabel(\"accuracy\")\n",
        "ylabel = plt.ylabel(\"val_accuracy\")"
      ],
      "execution_count": 63,
      "outputs": [
        {
          "output_type": "display_data",
          "data": {
            "image/png": "[encoded data removed]",
            "text/plain": [
              "<Figure size 432x288 with 1 Axes>"
            ]
          },
          "metadata": {
            "needs_background": "light"
          }
        }
      ]
    },
    {
      "cell_type": "markdown",
      "metadata": {
        "id": "X7_3o9jH_1ol"
      },
      "source": [
        "## Prediction with text value"
      ]
    },
    {
      "cell_type": "code",
      "metadata": {
        "id": "ew9S45udNwCm"
      },
      "source": [
        "pred=model.predict(x_test)\n",
        "for i in range(len(pred)):\n",
        "    if pred[i]>0.5:\n",
        "        pred[i]=1\n",
        "    elif pred[i]<=0.5:\n",
        "        pred[i]=0"
      ],
      "execution_count": 64,
      "outputs": []
    },
    {
      "cell_type": "code",
      "metadata": {
        "colab": {
          "base_uri": "https://localhost:8080/"
        },
        "id": "hrQDd2q3Go3E",
        "outputId": "a239f96e-3d38-4f99-fd88-76a4ddde907c"
      },
      "source": [
        "from sklearn.metrics import accuracy_score\n",
        "accuracyScore = accuracy_score(y_test, pred)\n",
        "print(accuracyScore)"
      ],
      "execution_count": null,
      "outputs": [
        {
          "output_type": "stream",
          "name": "stdout",
          "text": [
            "0.983177570093458\n"
          ]
        }
      ]
    },
    {
      "cell_type": "code",
      "metadata": {
        "id": "reAPQiqrLdWW",
        "colab": {
          "base_uri": "https://localhost:8080/"
        },
        "outputId": "4733144f-632b-43fe-cffe-a6c4bf9207c3"
      },
      "source": [
        "from sklearn.metrics import accuracy_score\n",
        "from sklearn.metrics import precision_score\n",
        "from sklearn.metrics import recall_score\n",
        "from sklearn.metrics import classification_report\n",
        "print(classification_report(y_test, pred))"
      ],
      "execution_count": null,
      "outputs": [
        {
          "output_type": "stream",
          "name": "stdout",
          "text": [
            "              precision    recall  f1-score   support\n",
            "\n",
            "           0       0.97      0.99      0.98      1605\n",
            "           1       0.99      0.97      0.98      1605\n",
            "\n",
            "    accuracy                           0.98      3210\n",
            "   macro avg       0.98      0.98      0.98      3210\n",
            "weighted avg       0.98      0.98      0.98      3210\n",
            "\n"
          ]
        }
      ]
    },
    {
      "cell_type": "code",
      "metadata": {
        "colab": {
          "base_uri": "https://localhost:8080/",
          "height": 298
        },
        "id": "G1QfJLXdOEXf",
        "outputId": "df33d7ac-9d8c-4b4e-a250-d6c13bf9c56a"
      },
      "source": [
        "from sklearn.metrics import confusion_matrix\n",
        "bi_lstm_cm =confusion_matrix(y_test,pred)\n",
        "import seaborn as sns\n",
        "print(\"For Bi-LSTM\")\n",
        "sns.heatmap(bi_lstm_cm, annot=True,fmt='0.2f')"
      ],
      "execution_count": null,
      "outputs": [
        {
          "output_type": "stream",
          "name": "stdout",
          "text": [
            "For Bi-LSTM\n"
          ]
        },
        {
          "output_type": "execute_result",
          "data": {
            "text/plain": [
              "<matplotlib.axes._subplots.AxesSubplot at 0x7f8b83f70110>"
            ]
          },
          "metadata": {},
          "execution_count": 119
        },
        {
          "output_type": "display_data",
          "data": {
            "image/png": "[encoded data removed]",
            "text/plain": [
              "<Figure size 432x288 with 2 Axes>"
            ]
          },
          "metadata": {
            "needs_background": "light"
          }
        }
      ]
    },
    {
      "cell_type": "markdown",
      "metadata": {
        "id": "SWWU8ozN_hJ6"
      },
      "source": [
        "## Prediction with single line"
      ]
    },
    {
      "cell_type": "code",
      "metadata": {
        "id": "1gA9ekzWHUbw"
      },
      "source": [
        "def predict_sentiment(test):\n",
        "    texts_ = []\n",
        "    for text in test:\n",
        "      words = [word.lower() for word in word_tokenize(text)]\n",
        "      texts_.append(words)\n",
        "\n",
        "    puncsets = []\n",
        "    for token in texts_: \n",
        "        punc = [i for i in token if i not in puncset]\n",
        "        puncsets.append(punc)\n",
        "        \n",
        "\n",
        "    sentence = []\n",
        "    for token in puncsets: \n",
        "        word = [w for w in token if w.isalpha()]\n",
        "        sentence.append(word)\n",
        "\n",
        "    english_stops = set(stopwords.words('english'))\n",
        "    filtered_words = []\n",
        "    for word in sentence: \n",
        "      f_word = [wd for wd in word if wd not in english_stops] \n",
        "      filtered_words.append(f_word)\n",
        " \n",
        "    pre_texts = filtered_words\n",
        "    \n",
        "    X_predict = tokenizer.texts_to_sequences(pre_texts)\n",
        "    X_predict = pad_sequences(\n",
        "        X_predict, \n",
        "        maxlen=128, \n",
        "        truncating = 'post',\n",
        "        padding='post'\n",
        "    )\n",
        "\n",
        "    \n",
        "    print(\"Probability of positive: {}\".format(model.predict(X_predict)[0]))\n",
        "    return 0"
      ],
      "execution_count": null,
      "outputs": []
    },
    {
      "cell_type": "code",
      "metadata": {
        "colab": {
          "base_uri": "https://localhost:8080/"
        },
        "id": "UqFcJQtVY0su",
        "outputId": "12ad633b-a4eb-417f-d7a0-9b9ce8953464"
      },
      "source": [
        "validation_sentence = ['woo. its late! haha  goodnight twitterverse! xoxo']\n",
        "predict_sentiment(validation_sentence)\n",
        "print(type(x))"
      ],
      "execution_count": null,
      "outputs": [
        {
          "output_type": "stream",
          "name": "stdout",
          "text": [
            "Probability of positive: [0.99966633]\n",
            "<class 'numpy.ndarray'>\n"
          ]
        }
      ]
    }
  ]
}